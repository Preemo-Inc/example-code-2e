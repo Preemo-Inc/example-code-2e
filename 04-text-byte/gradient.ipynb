{
 "cells": [
  {
   "cell_type": "code",
   "execution_count": 14,
   "metadata": {},
   "outputs": [
    {
     "data": {
      "text/plain": [
       "b'1K\\xce\\xa9'"
      ]
     },
     "execution_count": 14,
     "metadata": {},
     "output_type": "execute_result"
    }
   ],
   "source": [
    "bytes.fromhex('31 4B CE A9')"
   ]
  },
  {
   "cell_type": "code",
   "execution_count": 15,
   "metadata": {},
   "outputs": [
    {
     "name": "stdout",
     "output_type": "stream",
     "text": [
      "array('h', [-2, -1, 0, 1, 2])\n",
      "b'\\xfe\\xff\\xff\\xff\\x00\\x00\\x01\\x00\\x02\\x00'\n"
     ]
    }
   ],
   "source": [
    "import array\n",
    "numbers = array.array('h', [-2, -1, 0, 1, 2])\n",
    "print(numbers)\n",
    "octets = bytes(numbers)\n",
    "print(octets)"
   ]
  },
  {
   "cell_type": "code",
   "execution_count": 23,
   "metadata": {},
   "outputs": [
    {
     "name": "stdout",
     "output_type": "stream",
     "text": [
      "café\n",
      "München b'Mu\\xcc\\x88nchen'\n",
      "München b'M\\xc3\\xbcnchen'\n",
      "False\n",
      "True\n",
      "b'M\\xc3\\xbcnchen'\n"
     ]
    }
   ],
   "source": [
    "from unicodedata import normalize\n",
    "s = 'cafe\\N{COMBINING ACUTE ACCENT}'\n",
    "print(s)\n",
    "\n",
    "t = 'Mu\\N{COMBINING DIAERESIS}nchen'\n",
    "print(t, bytes(t, 'utf-8'))\n",
    "\n",
    "w = 'M\\u00fcnchen'\n",
    "print(w, bytes(w, 'utf-8'))\n",
    "\n",
    "print(t == w)\n",
    "print(normalize('NFC',t) == normalize('NFC', w))\n",
    "print(bytes(normalize('NFC',t), 'utf-8'))\n",
    "\n"
   ]
  },
  {
   "cell_type": "code",
   "execution_count": 2,
   "metadata": {},
   "outputs": [
    {
     "name": "stdout",
     "output_type": "stream",
     "text": [
      "zażółć gęślą jaźń\n",
      "zazołc gesla jazn\n",
      "zazołc gesla jazn\n"
     ]
    }
   ],
   "source": [
    "import unicodedata\n",
    "\n",
    "t = \"zażółć gęślą jaźń\"\n",
    "\n",
    "print(unicodedata.normalize('NFD', t))\n",
    "first_norm = ''.join(c for c in unicodedata.normalize('NFD', t) if not unicodedata.combining(c))\n",
    "print(first_norm)\n",
    "print(unicodedata.normalize('NFC', first_norm))"
   ]
  },
  {
   "cell_type": "code",
   "execution_count": 3,
   "metadata": {},
   "outputs": [
    {
     "name": "stdout",
     "output_type": "stream",
     "text": [
      "Text\n",
      "  'Ramanujan saw ௧௭௨௯ as 1729 = 1³ + 12³ = 9³ + 10³.'\n",
      "Numbers\n",
      "  str  : ['௧௭௨௯', '1729', '1', '12', '9', '10']\n",
      "  bytes: [b'1729', b'1', b'12', b'9', b'10']\n",
      "Words\n",
      "  str  : ['Ramanujan', 'saw', '௧௭௨௯', 'as', '1729', '1³', '12³', '9³', '10³']\n",
      "  bytes: [b'Ramanujan', b'saw', b'as', b'1729', b'1', b'12', b'9', b'10']\n"
     ]
    }
   ],
   "source": [
    "import re\n",
    "\n",
    "re_numbers_str = re.compile(r'\\d+')     # <1>\n",
    "re_words_str = re.compile(r'\\w+')\n",
    "re_numbers_bytes = re.compile(rb'\\d+')  # <2>\n",
    "re_words_bytes = re.compile(rb'\\w+')\n",
    "\n",
    "text_str = (\"Ramanujan saw \\u0be7\\u0bed\\u0be8\\u0bef\"  \n",
    "            \" as 1729 = 1³ + 12³ = 9³ + 10³.\")        \n",
    "\n",
    "text_bytes = text_str.encode('utf_8')  # <5>\n",
    "\n",
    "print(f'Text\\n  {text_str!r}')\n",
    "print('Numbers')\n",
    "print('  str  :', re_numbers_str.findall(text_str))      # <6>\n",
    "print('  bytes:', re_numbers_bytes.findall(text_bytes))  # <7>\n",
    "print('Words')\n",
    "print('  str  :', re_words_str.findall(text_str))        # <8>\n",
    "print('  bytes:', re_words_bytes.findall(text_bytes))    # <9>\n",
    "# end::RE_DEMO[]\n"
   ]
  }
 ],
 "metadata": {
  "kernelspec": {
   "display_name": ".venv",
   "language": "python",
   "name": "python3"
  },
  "language_info": {
   "codemirror_mode": {
    "name": "ipython",
    "version": 3
   },
   "file_extension": ".py",
   "mimetype": "text/x-python",
   "name": "python",
   "nbconvert_exporter": "python",
   "pygments_lexer": "ipython3",
   "version": "3.11.6"
  }
 },
 "nbformat": 4,
 "nbformat_minor": 2
}
