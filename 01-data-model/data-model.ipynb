{
 "cells": [
  {
   "cell_type": "markdown",
   "metadata": {},
   "source": [
    "# Chapter 1 — The Python Data Model\n",
    "\n",
    "**Sections with code snippets in this chapter:**\n",
    "\n",
    "* [A Pythonic Card Deck](#A-Pythonic-Card-Deck)\n",
    "* [Emulating Numeric Types](#Emulating-Numeric-Types)"
   ]
  },
  {
   "cell_type": "markdown",
   "metadata": {},
   "source": [
    "## A Pythonic Card Deck"
   ]
  },
  {
   "cell_type": "code",
   "execution_count": 23,
   "metadata": {},
   "outputs": [
    {
     "ename": "ModuleNotFoundError",
     "evalue": "No module named 'typing_extensions'",
     "output_type": "error",
     "traceback": [
      "\u001b[0;31m---------------------------------------------------------------------------\u001b[0m",
      "\u001b[0;31mModuleNotFoundError\u001b[0m                       Traceback (most recent call last)",
      "\u001b[1;32m/Users/matehal/Documents/example-code-2e/01-data-model/data-model.ipynb Cell 3\u001b[0m line \u001b[0;36m5\n\u001b[1;32m      <a href='vscode-notebook-cell:/Users/matehal/Documents/example-code-2e/01-data-model/data-model.ipynb#X32sZmlsZQ%3D%3D?line=0'>1</a>\u001b[0m \u001b[39mimport\u001b[39;00m \u001b[39mcollections\u001b[39;00m\n\u001b[1;32m      <a href='vscode-notebook-cell:/Users/matehal/Documents/example-code-2e/01-data-model/data-model.ipynb#X32sZmlsZQ%3D%3D?line=2'>3</a>\u001b[0m HuggingFaceModel \u001b[39m=\u001b[39m collections\u001b[39m.\u001b[39mnamedtuple(\u001b[39m'\u001b[39m\u001b[39mHuggingFaceModel\u001b[39m\u001b[39m'\u001b[39m, [\u001b[39m'\u001b[39m\u001b[39mname\u001b[39m\u001b[39m'\u001b[39m, \u001b[39m'\u001b[39m\u001b[39mrevision\u001b[39m\u001b[39m'\u001b[39m])\n\u001b[0;32m----> <a href='vscode-notebook-cell:/Users/matehal/Documents/example-code-2e/01-data-model/data-model.ipynb#X32sZmlsZQ%3D%3D?line=4'>5</a>\u001b[0m \u001b[39mfrom\u001b[39;00m \u001b[39mtyping_extensions\u001b[39;00m \u001b[39mimport\u001b[39;00m TypedDict\n\u001b[1;32m      <a href='vscode-notebook-cell:/Users/matehal/Documents/example-code-2e/01-data-model/data-model.ipynb#X32sZmlsZQ%3D%3D?line=6'>7</a>\u001b[0m \u001b[39mclass\u001b[39;00m \u001b[39mWhatever\u001b[39;00m(TypedDict):\n\u001b[1;32m      <a href='vscode-notebook-cell:/Users/matehal/Documents/example-code-2e/01-data-model/data-model.ipynb#X32sZmlsZQ%3D%3D?line=7'>8</a>\u001b[0m     name: \u001b[39mstr\u001b[39m\n",
      "\u001b[0;31mModuleNotFoundError\u001b[0m: No module named 'typing_extensions'"
     ]
    }
   ],
   "source": [
    "import collections\n",
    "\n",
    "HuggingFaceModel = collections.namedtuple('HuggingFaceModel', ['name', 'revision'])\n",
    "\n",
    "from typing_extensions import TypedDict\n",
    "\n",
    "class Whatever(TypedDict):\n",
    "    name: str\n",
    "    revision: str\n",
    "\n",
    "print(Whatever(name=\"somestr\", revision=\"someotherstr\"))\n",
    "print(Whatever(name=\"somestr\", revision=1))\n",
    "\n",
    "print(HuggingFaceModel('bert-base-uncased', 'v1'))\n",
    "print(HuggingFaceModel('bert-base-uncased', 1))\n"
   ]
  },
  {
   "cell_type": "markdown",
   "metadata": {},
   "source": [
    "#### Example 1-1. A deck as a sequence of playing cards"
   ]
  },
  {
   "cell_type": "code",
   "execution_count": 49,
   "metadata": {},
   "outputs": [],
   "source": [
    "import collections\n",
    "\n",
    "Card = collections.namedtuple('Card', ['rank', 'suit'])\n",
    "\n",
    "class FrenchDeck:\n",
    "    ranks = [str(n) for n in range(2, 11)] + list('JQKA')\n",
    "    suits = 'spades diamonds clubs hearts'.split()\n",
    "\n",
    "    def __init__(self):\n",
    "        self._cards = [Card(rank, suit) for suit in self.suits for rank in self.ranks]\n",
    "\n",
    "    def __len__(self):\n",
    "        print(\"I'm counting the cards\")\n",
    "        return len(self._cards)\n",
    "\n",
    "    def __getitem__(self, position):\n",
    "        print(f\"I'm getting a card {position}\")\n",
    "        return self._cards[position]\n"
   ]
  },
  {
   "cell_type": "code",
   "execution_count": 52,
   "metadata": {},
   "outputs": [
    {
     "name": "stdout",
     "output_type": "stream",
     "text": [
      "False\n",
      "True\n"
     ]
    }
   ],
   "source": [
    "beer_card = Card('7', 'diamonds')\n",
    "soda_card = Card('8', 'diamonds')\n",
    "another_beer_card = Card('7', 'diamonds')\n",
    "\n",
    "print(beer_card == soda_card)\n",
    "print(beer_card == another_beer_card)"
   ]
  },
  {
   "cell_type": "code",
   "execution_count": 46,
   "metadata": {},
   "outputs": [
    {
     "name": "stdout",
     "output_type": "stream",
     "text": [
      "I'm counting the cards\n"
     ]
    },
    {
     "data": {
      "text/plain": [
       "52"
      ]
     },
     "execution_count": 46,
     "metadata": {},
     "output_type": "execute_result"
    }
   ],
   "source": [
    "deck = FrenchDeck()\n",
    "len(deck)"
   ]
  },
  {
   "cell_type": "markdown",
   "metadata": {},
   "source": []
  },
  {
   "cell_type": "code",
   "execution_count": 41,
   "metadata": {},
   "outputs": [
    {
     "name": "stdout",
     "output_type": "stream",
     "text": [
      "I'm getting a card\n"
     ]
    },
    {
     "data": {
      "text/plain": [
       "Card(rank='2', suit='spades')"
      ]
     },
     "execution_count": 41,
     "metadata": {},
     "output_type": "execute_result"
    }
   ],
   "source": [
    "deck[0]"
   ]
  },
  {
   "cell_type": "code",
   "execution_count": 31,
   "metadata": {},
   "outputs": [
    {
     "data": {
      "text/plain": [
       "Card(rank='A', suit='hearts')"
      ]
     },
     "execution_count": 31,
     "metadata": {},
     "output_type": "execute_result"
    }
   ],
   "source": [
    "deck[-1]"
   ]
  },
  {
   "cell_type": "code",
   "execution_count": 10,
   "metadata": {},
   "outputs": [
    {
     "data": {
      "text/plain": [
       "Card(rank='J', suit='diamonds')"
      ]
     },
     "execution_count": 10,
     "metadata": {},
     "output_type": "execute_result"
    }
   ],
   "source": [
    "# NBVAL_IGNORE_OUTPUT\n",
    "from random import choice\n",
    "\n",
    "choice(deck)"
   ]
  },
  {
   "cell_type": "code",
   "execution_count": 32,
   "metadata": {},
   "outputs": [
    {
     "data": {
      "text/plain": [
       "[Card(rank='2', suit='spades'),\n",
       " Card(rank='3', suit='spades'),\n",
       " Card(rank='4', suit='spades')]"
      ]
     },
     "execution_count": 32,
     "metadata": {},
     "output_type": "execute_result"
    }
   ],
   "source": [
    "deck[:3]"
   ]
  },
  {
   "cell_type": "code",
   "execution_count": 39,
   "metadata": {},
   "outputs": [
    {
     "data": {
      "text/plain": [
       "[Card(rank='A', suit='spades'),\n",
       " Card(rank='A', suit='diamonds'),\n",
       " Card(rank='A', suit='clubs'),\n",
       " Card(rank='A', suit='hearts')]"
      ]
     },
     "execution_count": 39,
     "metadata": {},
     "output_type": "execute_result"
    }
   ],
   "source": [
    "deck[12::13]"
   ]
  },
  {
   "cell_type": "code",
   "execution_count": 48,
   "metadata": {},
   "outputs": [
    {
     "name": "stdout",
     "output_type": "stream",
     "text": [
      "I'm getting a card $0\n",
      "Card(rank='2', suit='spades')\n",
      "I'm getting a card $1\n",
      "Card(rank='3', suit='spades')\n",
      "I'm getting a card $2\n",
      "Card(rank='4', suit='spades')\n",
      "I'm getting a card $3\n",
      "Card(rank='5', suit='spades')\n",
      "I'm getting a card $4\n",
      "Card(rank='6', suit='spades')\n",
      "I'm getting a card $5\n",
      "Card(rank='7', suit='spades')\n",
      "I'm getting a card $6\n",
      "Card(rank='8', suit='spades')\n",
      "I'm getting a card $7\n",
      "Card(rank='9', suit='spades')\n",
      "I'm getting a card $8\n",
      "Card(rank='10', suit='spades')\n",
      "I'm getting a card $9\n",
      "Card(rank='J', suit='spades')\n",
      "I'm getting a card $10\n",
      "Card(rank='Q', suit='spades')\n",
      "I'm getting a card $11\n",
      "Card(rank='K', suit='spades')\n",
      "I'm getting a card $12\n",
      "Card(rank='A', suit='spades')\n",
      "I'm getting a card $13\n",
      "Card(rank='2', suit='diamonds')\n",
      "I'm getting a card $14\n",
      "Card(rank='3', suit='diamonds')\n",
      "I'm getting a card $15\n",
      "Card(rank='4', suit='diamonds')\n",
      "I'm getting a card $16\n",
      "Card(rank='5', suit='diamonds')\n",
      "I'm getting a card $17\n",
      "Card(rank='6', suit='diamonds')\n",
      "I'm getting a card $18\n",
      "Card(rank='7', suit='diamonds')\n",
      "I'm getting a card $19\n",
      "Card(rank='8', suit='diamonds')\n",
      "I'm getting a card $20\n",
      "Card(rank='9', suit='diamonds')\n",
      "I'm getting a card $21\n",
      "Card(rank='10', suit='diamonds')\n",
      "I'm getting a card $22\n",
      "Card(rank='J', suit='diamonds')\n",
      "I'm getting a card $23\n",
      "Card(rank='Q', suit='diamonds')\n",
      "I'm getting a card $24\n",
      "Card(rank='K', suit='diamonds')\n",
      "I'm getting a card $25\n",
      "Card(rank='A', suit='diamonds')\n",
      "I'm getting a card $26\n",
      "Card(rank='2', suit='clubs')\n",
      "I'm getting a card $27\n",
      "Card(rank='3', suit='clubs')\n",
      "I'm getting a card $28\n",
      "Card(rank='4', suit='clubs')\n",
      "I'm getting a card $29\n",
      "Card(rank='5', suit='clubs')\n",
      "I'm getting a card $30\n",
      "Card(rank='6', suit='clubs')\n",
      "I'm getting a card $31\n",
      "Card(rank='7', suit='clubs')\n",
      "I'm getting a card $32\n",
      "Card(rank='8', suit='clubs')\n",
      "I'm getting a card $33\n",
      "Card(rank='9', suit='clubs')\n",
      "I'm getting a card $34\n",
      "Card(rank='10', suit='clubs')\n",
      "I'm getting a card $35\n",
      "Card(rank='J', suit='clubs')\n",
      "I'm getting a card $36\n",
      "Card(rank='Q', suit='clubs')\n",
      "I'm getting a card $37\n",
      "Card(rank='K', suit='clubs')\n",
      "I'm getting a card $38\n",
      "Card(rank='A', suit='clubs')\n",
      "I'm getting a card $39\n",
      "Card(rank='2', suit='hearts')\n",
      "I'm getting a card $40\n",
      "Card(rank='3', suit='hearts')\n",
      "I'm getting a card $41\n",
      "Card(rank='4', suit='hearts')\n",
      "I'm getting a card $42\n",
      "Card(rank='5', suit='hearts')\n",
      "I'm getting a card $43\n",
      "Card(rank='6', suit='hearts')\n",
      "I'm getting a card $44\n",
      "Card(rank='7', suit='hearts')\n",
      "I'm getting a card $45\n",
      "Card(rank='8', suit='hearts')\n",
      "I'm getting a card $46\n",
      "Card(rank='9', suit='hearts')\n",
      "I'm getting a card $47\n",
      "Card(rank='10', suit='hearts')\n",
      "I'm getting a card $48\n",
      "Card(rank='J', suit='hearts')\n",
      "I'm getting a card $49\n",
      "Card(rank='Q', suit='hearts')\n",
      "I'm getting a card $50\n",
      "Card(rank='K', suit='hearts')\n",
      "I'm getting a card $51\n",
      "Card(rank='A', suit='hearts')\n",
      "I'm getting a card $52\n"
     ]
    }
   ],
   "source": [
    "for card in deck:\n",
    "    print(card)"
   ]
  },
  {
   "cell_type": "code",
   "execution_count": 47,
   "metadata": {},
   "outputs": [
    {
     "name": "stdout",
     "output_type": "stream",
     "text": [
      "I'm counting the cards\n",
      "I'm getting a card $51\n",
      "Card(rank='A', suit='hearts')\n",
      "I'm getting a card $50\n",
      "Card(rank='K', suit='hearts')\n",
      "I'm getting a card $49\n",
      "Card(rank='Q', suit='hearts')\n",
      "I'm getting a card $48\n",
      "Card(rank='J', suit='hearts')\n",
      "I'm getting a card $47\n",
      "Card(rank='10', suit='hearts')\n",
      "I'm getting a card $46\n",
      "Card(rank='9', suit='hearts')\n",
      "I'm getting a card $45\n",
      "Card(rank='8', suit='hearts')\n",
      "I'm getting a card $44\n",
      "Card(rank='7', suit='hearts')\n",
      "I'm getting a card $43\n",
      "Card(rank='6', suit='hearts')\n",
      "I'm getting a card $42\n",
      "Card(rank='5', suit='hearts')\n",
      "I'm getting a card $41\n",
      "Card(rank='4', suit='hearts')\n",
      "I'm getting a card $40\n",
      "Card(rank='3', suit='hearts')\n",
      "I'm getting a card $39\n",
      "Card(rank='2', suit='hearts')\n",
      "I'm getting a card $38\n",
      "Card(rank='A', suit='clubs')\n",
      "I'm getting a card $37\n",
      "Card(rank='K', suit='clubs')\n",
      "I'm getting a card $36\n",
      "Card(rank='Q', suit='clubs')\n",
      "I'm getting a card $35\n",
      "Card(rank='J', suit='clubs')\n",
      "I'm getting a card $34\n",
      "Card(rank='10', suit='clubs')\n",
      "I'm getting a card $33\n",
      "Card(rank='9', suit='clubs')\n",
      "I'm getting a card $32\n",
      "Card(rank='8', suit='clubs')\n",
      "I'm getting a card $31\n",
      "Card(rank='7', suit='clubs')\n",
      "I'm getting a card $30\n",
      "Card(rank='6', suit='clubs')\n",
      "I'm getting a card $29\n",
      "Card(rank='5', suit='clubs')\n",
      "I'm getting a card $28\n",
      "Card(rank='4', suit='clubs')\n",
      "I'm getting a card $27\n",
      "Card(rank='3', suit='clubs')\n",
      "I'm getting a card $26\n",
      "Card(rank='2', suit='clubs')\n",
      "I'm getting a card $25\n",
      "Card(rank='A', suit='diamonds')\n",
      "I'm getting a card $24\n",
      "Card(rank='K', suit='diamonds')\n",
      "I'm getting a card $23\n",
      "Card(rank='Q', suit='diamonds')\n",
      "I'm getting a card $22\n",
      "Card(rank='J', suit='diamonds')\n",
      "I'm getting a card $21\n",
      "Card(rank='10', suit='diamonds')\n",
      "I'm getting a card $20\n",
      "Card(rank='9', suit='diamonds')\n",
      "I'm getting a card $19\n",
      "Card(rank='8', suit='diamonds')\n",
      "I'm getting a card $18\n",
      "Card(rank='7', suit='diamonds')\n",
      "I'm getting a card $17\n",
      "Card(rank='6', suit='diamonds')\n",
      "I'm getting a card $16\n",
      "Card(rank='5', suit='diamonds')\n",
      "I'm getting a card $15\n",
      "Card(rank='4', suit='diamonds')\n",
      "I'm getting a card $14\n",
      "Card(rank='3', suit='diamonds')\n",
      "I'm getting a card $13\n",
      "Card(rank='2', suit='diamonds')\n",
      "I'm getting a card $12\n",
      "Card(rank='A', suit='spades')\n",
      "I'm getting a card $11\n",
      "Card(rank='K', suit='spades')\n",
      "I'm getting a card $10\n",
      "Card(rank='Q', suit='spades')\n",
      "I'm getting a card $9\n",
      "Card(rank='J', suit='spades')\n",
      "I'm getting a card $8\n",
      "Card(rank='10', suit='spades')\n",
      "I'm getting a card $7\n",
      "Card(rank='9', suit='spades')\n",
      "I'm getting a card $6\n",
      "Card(rank='8', suit='spades')\n",
      "I'm getting a card $5\n",
      "Card(rank='7', suit='spades')\n",
      "I'm getting a card $4\n",
      "Card(rank='6', suit='spades')\n",
      "I'm getting a card $3\n",
      "Card(rank='5', suit='spades')\n",
      "I'm getting a card $2\n",
      "Card(rank='4', suit='spades')\n",
      "I'm getting a card $1\n",
      "Card(rank='3', suit='spades')\n",
      "I'm getting a card $0\n",
      "Card(rank='2', suit='spades')\n"
     ]
    }
   ],
   "source": [
    "for card in reversed(deck):\n",
    "    print(card)"
   ]
  },
  {
   "cell_type": "code",
   "execution_count": 15,
   "metadata": {},
   "outputs": [
    {
     "data": {
      "text/plain": [
       "True"
      ]
     },
     "execution_count": 15,
     "metadata": {},
     "output_type": "execute_result"
    }
   ],
   "source": [
    "Card('Q', 'hearts') in deck"
   ]
  },
  {
   "cell_type": "code",
   "execution_count": 16,
   "metadata": {},
   "outputs": [
    {
     "data": {
      "text/plain": [
       "False"
      ]
     },
     "execution_count": 16,
     "metadata": {},
     "output_type": "execute_result"
    }
   ],
   "source": [
    "Card('7', 'beasts') in deck"
   ]
  },
  {
   "cell_type": "code",
   "execution_count": 17,
   "metadata": {},
   "outputs": [
    {
     "name": "stdout",
     "output_type": "stream",
     "text": [
      "Card(rank='2', suit='clubs')\n",
      "Card(rank='2', suit='diamonds')\n",
      "Card(rank='2', suit='hearts')\n",
      "Card(rank='2', suit='spades')\n",
      "Card(rank='3', suit='clubs')\n",
      "Card(rank='3', suit='diamonds')\n",
      "Card(rank='3', suit='hearts')\n",
      "Card(rank='3', suit='spades')\n",
      "Card(rank='4', suit='clubs')\n",
      "Card(rank='4', suit='diamonds')\n",
      "Card(rank='4', suit='hearts')\n",
      "Card(rank='4', suit='spades')\n",
      "Card(rank='5', suit='clubs')\n",
      "Card(rank='5', suit='diamonds')\n",
      "Card(rank='5', suit='hearts')\n",
      "Card(rank='5', suit='spades')\n",
      "Card(rank='6', suit='clubs')\n",
      "Card(rank='6', suit='diamonds')\n",
      "Card(rank='6', suit='hearts')\n",
      "Card(rank='6', suit='spades')\n",
      "Card(rank='7', suit='clubs')\n",
      "Card(rank='7', suit='diamonds')\n",
      "Card(rank='7', suit='hearts')\n",
      "Card(rank='7', suit='spades')\n",
      "Card(rank='8', suit='clubs')\n",
      "Card(rank='8', suit='diamonds')\n",
      "Card(rank='8', suit='hearts')\n",
      "Card(rank='8', suit='spades')\n",
      "Card(rank='9', suit='clubs')\n",
      "Card(rank='9', suit='diamonds')\n",
      "Card(rank='9', suit='hearts')\n",
      "Card(rank='9', suit='spades')\n",
      "Card(rank='10', suit='clubs')\n",
      "Card(rank='10', suit='diamonds')\n",
      "Card(rank='10', suit='hearts')\n",
      "Card(rank='10', suit='spades')\n",
      "Card(rank='J', suit='clubs')\n",
      "Card(rank='J', suit='diamonds')\n",
      "Card(rank='J', suit='hearts')\n",
      "Card(rank='J', suit='spades')\n",
      "Card(rank='Q', suit='clubs')\n",
      "Card(rank='Q', suit='diamonds')\n",
      "Card(rank='Q', suit='hearts')\n",
      "Card(rank='Q', suit='spades')\n",
      "Card(rank='K', suit='clubs')\n",
      "Card(rank='K', suit='diamonds')\n",
      "Card(rank='K', suit='hearts')\n",
      "Card(rank='K', suit='spades')\n",
      "Card(rank='A', suit='clubs')\n",
      "Card(rank='A', suit='diamonds')\n",
      "Card(rank='A', suit='hearts')\n",
      "Card(rank='A', suit='spades')\n"
     ]
    }
   ],
   "source": [
    "suit_values = dict(spades=3, hearts=2, diamonds=1, clubs=0)\n",
    "\n",
    "def spades_high(card):\n",
    "    rank_value = FrenchDeck.ranks.index(card.rank)\n",
    "    return rank_value * len(suit_values) + suit_values[card.suit]\n",
    "\n",
    "for card in sorted(deck, key=spades_high):\n",
    "    print(card)"
   ]
  },
  {
   "cell_type": "markdown",
   "metadata": {},
   "source": [
    "## Emulating Numeric Types"
   ]
  },
  {
   "cell_type": "markdown",
   "metadata": {},
   "source": [
    "#### Example 1-2. A simple two-dimensional vector class"
   ]
  },
  {
   "cell_type": "code",
   "execution_count": 18,
   "metadata": {},
   "outputs": [],
   "source": [
    "import math\n",
    "\n",
    "class Vector:\n",
    "\n",
    "    def __init__(self, x=0, y=0):\n",
    "        self.x = x\n",
    "        self.y = y\n",
    "\n",
    "    def __repr__(self):\n",
    "        return 'Vector(%r, %r)' % (self.x, self.y)\n",
    "\n",
    "    def __abs__(self):\n",
    "        return math.hypot(self.x, self.y)\n",
    "\n",
    "    def __bool__(self):\n",
    "        return bool(abs(self))\n",
    "\n",
    "    def __add__(self, other):\n",
    "        x = self.x + other.x\n",
    "        y = self.y + other.y\n",
    "        return Vector(x, y)\n",
    "\n",
    "    def __mul__(self, scalar):\n",
    "        return Vector(self.x * scalar, self.y * scalar)"
   ]
  },
  {
   "cell_type": "code",
   "execution_count": 19,
   "metadata": {},
   "outputs": [
    {
     "data": {
      "text/plain": [
       "Vector(4, 5)"
      ]
     },
     "execution_count": 19,
     "metadata": {},
     "output_type": "execute_result"
    }
   ],
   "source": [
    "v1 = Vector(2, 4)\n",
    "v2 = Vector(2, 1)\n",
    "v1 + v2"
   ]
  },
  {
   "cell_type": "code",
   "execution_count": 20,
   "metadata": {},
   "outputs": [
    {
     "data": {
      "text/plain": [
       "5.0"
      ]
     },
     "execution_count": 20,
     "metadata": {},
     "output_type": "execute_result"
    }
   ],
   "source": [
    "v = Vector(3, 4)\n",
    "abs(v)"
   ]
  },
  {
   "cell_type": "code",
   "execution_count": 21,
   "metadata": {},
   "outputs": [
    {
     "data": {
      "text/plain": [
       "Vector(9, 12)"
      ]
     },
     "execution_count": 21,
     "metadata": {},
     "output_type": "execute_result"
    }
   ],
   "source": [
    "v * 3"
   ]
  },
  {
   "cell_type": "code",
   "execution_count": 22,
   "metadata": {},
   "outputs": [
    {
     "data": {
      "text/plain": [
       "15.0"
      ]
     },
     "execution_count": 22,
     "metadata": {},
     "output_type": "execute_result"
    }
   ],
   "source": [
    "abs(v * 3)"
   ]
  }
 ],
 "metadata": {
  "kernelspec": {
   "display_name": "Python 3",
   "language": "python",
   "name": "python3"
  },
  "language_info": {
   "codemirror_mode": {
    "name": "ipython",
    "version": 3
   },
   "file_extension": ".py",
   "mimetype": "text/x-python",
   "name": "python",
   "nbconvert_exporter": "python",
   "pygments_lexer": "ipython3",
   "version": "3.11.6"
  }
 },
 "nbformat": 4,
 "nbformat_minor": 2
}
