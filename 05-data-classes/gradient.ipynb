{
 "cells": [
  {
   "cell_type": "code",
   "execution_count": 21,
   "metadata": {},
   "outputs": [
    {
     "name": "stdout",
     "output_type": "stream",
     "text": [
      "{'y': <class 'int'>, 'x': <class 'int'>}\n",
      "True\n",
      "Point(y=1, x=2)\n",
      "Point(y=1, x=100)\n"
     ]
    }
   ],
   "source": [
    "from dataclasses import dataclass\n",
    "import dataclasses\n",
    "\n",
    "class SomeObject:\n",
    "    a: int\n",
    "    b: str\n",
    "\n",
    "    def __init__(self, a, b) -> None:\n",
    "        self.a = a\n",
    "        self.b = b\n",
    "\n",
    "first = SomeObject(1, \"hello\")\n",
    "second = SomeObject(2, \"goodbye\")\n",
    "\n",
    "@dataclass(frozen=True, order=True)\n",
    "class Point:\n",
    "    y: int\n",
    "    x: int\n",
    "\n",
    "    def __add__(self, other):\n",
    "        return Point(self.x + other.x, self.y + other.y)\n",
    "    \n",
    "print(Point.__annotations__)\n",
    "\n",
    "# p = Point(1, 2, first)\n",
    "# FAILS\n",
    "# p.o = second\n",
    "\n",
    "p1 = Point(3, 1)\n",
    "p2 = Point(1, 2)\n",
    "print(p1 > p2)\n",
    "\n",
    "p1 = p2\n",
    "# p1.o.a += 3\n",
    "\n",
    "# FAILS\n",
    "# p1.x += 3\n",
    "\n",
    "p3 = dataclasses.replace(p1, x=100)\n",
    "print(p1)\n",
    "print(p3)"
   ]
  },
  {
   "cell_type": "code",
   "execution_count": 24,
   "metadata": {},
   "outputs": [
    {
     "name": "stdout",
     "output_type": "stream",
     "text": [
      "in post init MongoDB Atlas\n",
      "None\n"
     ]
    }
   ],
   "source": [
    "from dataclasses import InitVar\n",
    "\n",
    "\n",
    "@dataclass\n",
    "class C:\n",
    "    i: int\n",
    "    j: int = None\n",
    "    database: InitVar[str] = None\n",
    "\n",
    "    def __post_init__(self, database):\n",
    "        print(\"in post init\", database)\n",
    "\n",
    "c = C(10, database=\"MongoDB Atlas\")\n",
    "\n",
    "print(c.database)"
   ]
  }
 ],
 "metadata": {
  "kernelspec": {
   "display_name": "Python 3",
   "language": "python",
   "name": "python3"
  },
  "language_info": {
   "codemirror_mode": {
    "name": "ipython",
    "version": 3
   },
   "file_extension": ".py",
   "mimetype": "text/x-python",
   "name": "python",
   "nbconvert_exporter": "python",
   "pygments_lexer": "ipython3",
   "version": "3.11.6"
  }
 },
 "nbformat": 4,
 "nbformat_minor": 2
}
