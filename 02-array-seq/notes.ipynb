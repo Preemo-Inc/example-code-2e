{
 "cells": [
  {
   "cell_type": "markdown",
   "metadata": {},
   "source": [
    "# @mhaligowski 's notes on chapter 2\n",
    "\n",
    "> 🧠 TIL:\n",
    "> \n",
    ">  `str` and `bytes` were added in Python 3???\n",
    "\n",
    "There are to flavors of sequence types in Python's standard library:\n",
    "\n",
    "* container sequences can hold different types of data (`list`, `tuple`, `collections.deque`)\n",
    "* flat sequences can only hold one type of data (`str`, `bytes`, `bytearray`, `memoryview`, `array.array`)"
   ]
  },
  {
   "cell_type": "markdown",
   "metadata": {},
   "source": [
    "Container sequences hold *references*, while flat sequences hold *values*."
   ]
  },
  {
   "cell_type": "code",
   "execution_count": null,
   "metadata": {},
   "outputs": [],
   "source": [
    "subsequence = [1, 2]\n",
    "print(f\"subsequence is {subsequence}\")\n",
    "\n",
    "container = ['a', 'b', subsequence]\n",
    "print(f\"container is {container}\")\n",
    "\n",
    "subsequence.append(3)\n",
    "print(f\"subsequence is {subsequence}\")\n",
    "print(f\"container is {container}\")\n"
   ]
  },
  {
   "cell_type": "markdown",
   "metadata": {},
   "source": [
    "> 🎓 TIL:\n",
    ">\n",
    "> Every Python object has headers, for example for `float`:\n",
    "> * `ob_refcnt` - reference count\n",
    "> * `ob_type` - type of the object (pointer)\n",
    "> * `ob_fval` - C `double` holding the `float` value\n",
    ">\n",
    "> Each field takes 8 bytes"
   ]
  },
  {
   "cell_type": "markdown",
   "metadata": {},
   "source": [
    "Another distinction:\n",
    "* mutable (`list`, `bytearray`, `array.array`, `collections.deque`, `memoryview`),\n",
    "* immutable (`tuple`, `str`, `bytes`)"
   ]
  },
  {
   "cell_type": "markdown",
   "metadata": {},
   "source": [
    "## `list`: mutable container\n",
    "\n",
    "_listcomps_ FTW:"
   ]
  },
  {
   "cell_type": "code",
   "execution_count": null,
   "metadata": {},
   "outputs": [],
   "source": [
    "symbols = '$¢£¥€¤'\n",
    "\n",
    "# Non-Python way\n",
    "codes = []\n",
    "for symbol in symbols:\n",
    "    codes.append(ord(symbol))\n",
    "\n",
    "# Pythonic way\n",
    "codes = [ ord(symbol) for symbol in symbols ]\n"
   ]
  },
  {
   "cell_type": "markdown",
   "metadata": {},
   "source": [
    "> Tip:\n",
    "> Line breaks are ignored inside pairs of `[]`, `{}` or `()`. Not sure what they mean by that?\n"
   ]
  },
  {
   "cell_type": "markdown",
   "metadata": {},
   "source": [
    "Walrus operator??? `:=` - assignment expression. It assigns a value to a variable as part of a larger expression. It is also known as the *named expression*."
   ]
  },
  {
   "cell_type": "code",
   "execution_count": null,
   "metadata": {},
   "outputs": [],
   "source": [
    "x = [1, 2, 3, 4, 5]\n",
    "squares = [x**2 for x in x]\n",
    "print(squares)\n",
    "\n",
    "cubes = [ last:=x**3 for x in x ]\n",
    "print(cubes, last)\n",
    "\n",
    "for x in x:\n",
    "    while (last:=x**3 != 9):\n",
    "        print(\"hi\")\n",
    "\n",
    "print(last)"
   ]
  },
  {
   "cell_type": "markdown",
   "metadata": {},
   "source": [
    "## Cartesian products"
   ]
  },
  {
   "cell_type": "code",
   "execution_count": null,
   "metadata": {},
   "outputs": [],
   "source": [
    "# Cartesian product\n",
    "chessboard = [f'{letter}{digit}' for letter in 'ABCDEFGH' for digit in range(1, 9)]\n",
    "print(chessboard)\n",
    "\n",
    "# BONUS: Splitting with listcomps!\n",
    "print([chessboard[start:start+8] for start in range(0, len(chessboard), 8)])\n",
    "\n"
   ]
  },
  {
   "cell_type": "markdown",
   "metadata": {},
   "source": [
    "_gencomps_ are like _listcomps_, written with `()` instead of `[]`. They are generators, so they don't build lists, but instead produce values on demand."
   ]
  },
  {
   "cell_type": "code",
   "execution_count": null,
   "metadata": {},
   "outputs": [],
   "source": [
    "colors = ['black', 'white']\n",
    "sizes = ['S', 'M', 'L']\n",
    "for tshirt tshitrs (f'{c} {s}' for c in colors for s in sizes):\n",
    "  "
   ]
  },
  {
   "cell_type": "code",
   "execution_count": null,
   "metadata": {},
   "outputs": [],
   "source": []
  }
 ],
 "metadata": {
  "kernelspec": {
   "display_name": ".venv",
   "language": "python",
   "name": "python3"
  },
  "language_info": {
   "codemirror_mode": {
    "name": "ipython",
    "version": 3
   },
   "file_extension": ".py",
   "mimetype": "text/x-python",
   "name": "python",
   "nbconvert_exporter": "python",
   "pygments_lexer": "ipython3",
   "version": "3.10.2"
  }
 },
 "nbformat": 4,
 "nbformat_minor": 2
}
